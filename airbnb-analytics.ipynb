{
 "cells": [
  {
   "cell_type": "markdown",
   "id": "e9c2568a",
   "metadata": {},
   "source": [
    "# 0. Imports"
   ]
  },
  {
   "cell_type": "code",
   "execution_count": 83,
   "id": "5ac4a8a4",
   "metadata": {},
   "outputs": [],
   "source": [
    "import pandas as pd\n",
    "\n",
    "from sklearn import model_selection as ms\n",
    "from sklearn import metrics as mt\n",
    "from sklearn import ensemble as en\n",
    "from sklearn import dummy as dm"
   ]
  },
  {
   "cell_type": "code",
   "execution_count": 69,
   "id": "643a8fe8",
   "metadata": {},
   "outputs": [
    {
     "data": {
      "text/html": [
       "<div>\n",
       "<style scoped>\n",
       "    .dataframe tbody tr th:only-of-type {\n",
       "        vertical-align: middle;\n",
       "    }\n",
       "\n",
       "    .dataframe tbody tr th {\n",
       "        vertical-align: top;\n",
       "    }\n",
       "\n",
       "    .dataframe thead th {\n",
       "        text-align: right;\n",
       "    }\n",
       "</style>\n",
       "<table border=\"1\" class=\"dataframe\">\n",
       "  <thead>\n",
       "    <tr style=\"text-align: right;\">\n",
       "      <th></th>\n",
       "      <th>id</th>\n",
       "      <th>date_account_created</th>\n",
       "      <th>timestamp_first_active</th>\n",
       "      <th>date_first_booking</th>\n",
       "      <th>gender</th>\n",
       "      <th>age</th>\n",
       "      <th>signup_method</th>\n",
       "      <th>signup_flow</th>\n",
       "      <th>language</th>\n",
       "      <th>affiliate_channel</th>\n",
       "      <th>affiliate_provider</th>\n",
       "      <th>first_affiliate_tracked</th>\n",
       "      <th>signup_app</th>\n",
       "      <th>first_device_type</th>\n",
       "      <th>first_browser</th>\n",
       "      <th>country_destination</th>\n",
       "    </tr>\n",
       "  </thead>\n",
       "  <tbody>\n",
       "    <tr>\n",
       "      <th>0</th>\n",
       "      <td>gxn3p5htnn</td>\n",
       "      <td>2010-06-28</td>\n",
       "      <td>20090319043255</td>\n",
       "      <td>NaN</td>\n",
       "      <td>-unknown-</td>\n",
       "      <td>NaN</td>\n",
       "      <td>facebook</td>\n",
       "      <td>0</td>\n",
       "      <td>en</td>\n",
       "      <td>direct</td>\n",
       "      <td>direct</td>\n",
       "      <td>untracked</td>\n",
       "      <td>Web</td>\n",
       "      <td>Mac Desktop</td>\n",
       "      <td>Chrome</td>\n",
       "      <td>NDF</td>\n",
       "    </tr>\n",
       "    <tr>\n",
       "      <th>1</th>\n",
       "      <td>820tgsjxq7</td>\n",
       "      <td>2011-05-25</td>\n",
       "      <td>20090523174809</td>\n",
       "      <td>NaN</td>\n",
       "      <td>MALE</td>\n",
       "      <td>38.0</td>\n",
       "      <td>facebook</td>\n",
       "      <td>0</td>\n",
       "      <td>en</td>\n",
       "      <td>seo</td>\n",
       "      <td>google</td>\n",
       "      <td>untracked</td>\n",
       "      <td>Web</td>\n",
       "      <td>Mac Desktop</td>\n",
       "      <td>Chrome</td>\n",
       "      <td>NDF</td>\n",
       "    </tr>\n",
       "    <tr>\n",
       "      <th>2</th>\n",
       "      <td>4ft3gnwmtx</td>\n",
       "      <td>2010-09-28</td>\n",
       "      <td>20090609231247</td>\n",
       "      <td>2010-08-02</td>\n",
       "      <td>FEMALE</td>\n",
       "      <td>56.0</td>\n",
       "      <td>basic</td>\n",
       "      <td>3</td>\n",
       "      <td>en</td>\n",
       "      <td>direct</td>\n",
       "      <td>direct</td>\n",
       "      <td>untracked</td>\n",
       "      <td>Web</td>\n",
       "      <td>Windows Desktop</td>\n",
       "      <td>IE</td>\n",
       "      <td>US</td>\n",
       "    </tr>\n",
       "    <tr>\n",
       "      <th>3</th>\n",
       "      <td>bjjt8pjhuk</td>\n",
       "      <td>2011-12-05</td>\n",
       "      <td>20091031060129</td>\n",
       "      <td>2012-09-08</td>\n",
       "      <td>FEMALE</td>\n",
       "      <td>42.0</td>\n",
       "      <td>facebook</td>\n",
       "      <td>0</td>\n",
       "      <td>en</td>\n",
       "      <td>direct</td>\n",
       "      <td>direct</td>\n",
       "      <td>untracked</td>\n",
       "      <td>Web</td>\n",
       "      <td>Mac Desktop</td>\n",
       "      <td>Firefox</td>\n",
       "      <td>other</td>\n",
       "    </tr>\n",
       "    <tr>\n",
       "      <th>4</th>\n",
       "      <td>87mebub9p4</td>\n",
       "      <td>2010-09-14</td>\n",
       "      <td>20091208061105</td>\n",
       "      <td>2010-02-18</td>\n",
       "      <td>-unknown-</td>\n",
       "      <td>41.0</td>\n",
       "      <td>basic</td>\n",
       "      <td>0</td>\n",
       "      <td>en</td>\n",
       "      <td>direct</td>\n",
       "      <td>direct</td>\n",
       "      <td>untracked</td>\n",
       "      <td>Web</td>\n",
       "      <td>Mac Desktop</td>\n",
       "      <td>Chrome</td>\n",
       "      <td>US</td>\n",
       "    </tr>\n",
       "  </tbody>\n",
       "</table>\n",
       "</div>"
      ],
      "text/plain": [
       "           id date_account_created  timestamp_first_active date_first_booking  \\\n",
       "0  gxn3p5htnn           2010-06-28          20090319043255                NaN   \n",
       "1  820tgsjxq7           2011-05-25          20090523174809                NaN   \n",
       "2  4ft3gnwmtx           2010-09-28          20090609231247         2010-08-02   \n",
       "3  bjjt8pjhuk           2011-12-05          20091031060129         2012-09-08   \n",
       "4  87mebub9p4           2010-09-14          20091208061105         2010-02-18   \n",
       "\n",
       "      gender   age signup_method  signup_flow language affiliate_channel  \\\n",
       "0  -unknown-   NaN      facebook            0       en            direct   \n",
       "1       MALE  38.0      facebook            0       en               seo   \n",
       "2     FEMALE  56.0         basic            3       en            direct   \n",
       "3     FEMALE  42.0      facebook            0       en            direct   \n",
       "4  -unknown-  41.0         basic            0       en            direct   \n",
       "\n",
       "  affiliate_provider first_affiliate_tracked signup_app first_device_type  \\\n",
       "0             direct               untracked        Web       Mac Desktop   \n",
       "1             google               untracked        Web       Mac Desktop   \n",
       "2             direct               untracked        Web   Windows Desktop   \n",
       "3             direct               untracked        Web       Mac Desktop   \n",
       "4             direct               untracked        Web       Mac Desktop   \n",
       "\n",
       "  first_browser country_destination  \n",
       "0        Chrome                 NDF  \n",
       "1        Chrome                 NDF  \n",
       "2            IE                  US  \n",
       "3       Firefox               other  \n",
       "4        Chrome                  US  "
      ]
     },
     "execution_count": 69,
     "metadata": {},
     "output_type": "execute_result"
    }
   ],
   "source": [
    "df_raw = pd.read_csv( 'dataset/train_users_2.csv')\n",
    "df_raw.head()"
   ]
  },
  {
   "cell_type": "markdown",
   "id": "fb5a1719",
   "metadata": {},
   "source": [
    "# 1.0. Data Descriptive"
   ]
  },
  {
   "cell_type": "code",
   "execution_count": 70,
   "id": "0794fa64",
   "metadata": {},
   "outputs": [],
   "source": [
    "# X_train and y_train\n",
    "X_train = df_raw.drop('country_destination', axis=1)\n",
    "y_train = df_raw['country_destination']\n",
    "\n",
    "# split data into train and test\n",
    "X_train, X_test, y_train, y_test = ms.train_test_split(\n",
    "    X_train, \n",
    "    y_train,\n",
    "    stratify=y_train,\n",
    "    \n",
    "    test_size=0.2 )\n",
    "\n",
    "\n",
    "df1 = pd.concat( [X_train, y_train], axis=1 )"
   ]
  },
  {
   "cell_type": "code",
   "execution_count": 71,
   "id": "16a5a6a8",
   "metadata": {},
   "outputs": [],
   "source": [
    "df1 = df1.dropna()"
   ]
  },
  {
   "cell_type": "markdown",
   "id": "730323cc",
   "metadata": {},
   "source": [
    "# 2.0. Features Engineering"
   ]
  },
  {
   "cell_type": "code",
   "execution_count": null,
   "id": "7678bc2b",
   "metadata": {},
   "outputs": [],
   "source": []
  },
  {
   "cell_type": "markdown",
   "id": "bd86af44",
   "metadata": {},
   "source": [
    "# 3.0. Data Filtering"
   ]
  },
  {
   "cell_type": "code",
   "execution_count": 72,
   "id": "b66e4795",
   "metadata": {},
   "outputs": [
    {
     "data": {
      "text/html": [
       "<div>\n",
       "<style scoped>\n",
       "    .dataframe tbody tr th:only-of-type {\n",
       "        vertical-align: middle;\n",
       "    }\n",
       "\n",
       "    .dataframe tbody tr th {\n",
       "        vertical-align: top;\n",
       "    }\n",
       "\n",
       "    .dataframe thead th {\n",
       "        text-align: right;\n",
       "    }\n",
       "</style>\n",
       "<table border=\"1\" class=\"dataframe\">\n",
       "  <thead>\n",
       "    <tr style=\"text-align: right;\">\n",
       "      <th></th>\n",
       "      <th>gender</th>\n",
       "      <th>age</th>\n",
       "      <th>signup_method</th>\n",
       "      <th>signup_flow</th>\n",
       "      <th>language</th>\n",
       "      <th>affiliate_channel</th>\n",
       "      <th>affiliate_provider</th>\n",
       "      <th>first_affiliate_tracked</th>\n",
       "      <th>signup_app</th>\n",
       "      <th>first_device_type</th>\n",
       "      <th>first_browser</th>\n",
       "      <th>country_destination</th>\n",
       "    </tr>\n",
       "  </thead>\n",
       "  <tbody>\n",
       "    <tr>\n",
       "      <th>181335</th>\n",
       "      <td>FEMALE</td>\n",
       "      <td>35.0</td>\n",
       "      <td>facebook</td>\n",
       "      <td>0</td>\n",
       "      <td>en</td>\n",
       "      <td>sem-brand</td>\n",
       "      <td>google</td>\n",
       "      <td>omg</td>\n",
       "      <td>Web</td>\n",
       "      <td>Mac Desktop</td>\n",
       "      <td>Firefox</td>\n",
       "      <td>US</td>\n",
       "    </tr>\n",
       "    <tr>\n",
       "      <th>32671</th>\n",
       "      <td>FEMALE</td>\n",
       "      <td>40.0</td>\n",
       "      <td>basic</td>\n",
       "      <td>3</td>\n",
       "      <td>en</td>\n",
       "      <td>content</td>\n",
       "      <td>google</td>\n",
       "      <td>omg</td>\n",
       "      <td>Web</td>\n",
       "      <td>Mac Desktop</td>\n",
       "      <td>Firefox</td>\n",
       "      <td>US</td>\n",
       "    </tr>\n",
       "    <tr>\n",
       "      <th>11340</th>\n",
       "      <td>FEMALE</td>\n",
       "      <td>28.0</td>\n",
       "      <td>facebook</td>\n",
       "      <td>2</td>\n",
       "      <td>en</td>\n",
       "      <td>direct</td>\n",
       "      <td>direct</td>\n",
       "      <td>untracked</td>\n",
       "      <td>Web</td>\n",
       "      <td>iPhone</td>\n",
       "      <td>-unknown-</td>\n",
       "      <td>ES</td>\n",
       "    </tr>\n",
       "    <tr>\n",
       "      <th>36922</th>\n",
       "      <td>MALE</td>\n",
       "      <td>55.0</td>\n",
       "      <td>facebook</td>\n",
       "      <td>0</td>\n",
       "      <td>en</td>\n",
       "      <td>direct</td>\n",
       "      <td>direct</td>\n",
       "      <td>untracked</td>\n",
       "      <td>Web</td>\n",
       "      <td>Windows Desktop</td>\n",
       "      <td>IE</td>\n",
       "      <td>US</td>\n",
       "    </tr>\n",
       "    <tr>\n",
       "      <th>34826</th>\n",
       "      <td>FEMALE</td>\n",
       "      <td>29.0</td>\n",
       "      <td>facebook</td>\n",
       "      <td>3</td>\n",
       "      <td>en</td>\n",
       "      <td>direct</td>\n",
       "      <td>direct</td>\n",
       "      <td>untracked</td>\n",
       "      <td>Web</td>\n",
       "      <td>Mac Desktop</td>\n",
       "      <td>Firefox</td>\n",
       "      <td>US</td>\n",
       "    </tr>\n",
       "  </tbody>\n",
       "</table>\n",
       "</div>"
      ],
      "text/plain": [
       "        gender   age signup_method  signup_flow language affiliate_channel  \\\n",
       "181335  FEMALE  35.0      facebook            0       en         sem-brand   \n",
       "32671   FEMALE  40.0         basic            3       en           content   \n",
       "11340   FEMALE  28.0      facebook            2       en            direct   \n",
       "36922     MALE  55.0      facebook            0       en            direct   \n",
       "34826   FEMALE  29.0      facebook            3       en            direct   \n",
       "\n",
       "       affiliate_provider first_affiliate_tracked signup_app  \\\n",
       "181335             google                     omg        Web   \n",
       "32671              google                     omg        Web   \n",
       "11340              direct               untracked        Web   \n",
       "36922              direct               untracked        Web   \n",
       "34826              direct               untracked        Web   \n",
       "\n",
       "       first_device_type first_browser country_destination  \n",
       "181335       Mac Desktop       Firefox                  US  \n",
       "32671        Mac Desktop       Firefox                  US  \n",
       "11340             iPhone     -unknown-                  ES  \n",
       "36922    Windows Desktop            IE                  US  \n",
       "34826        Mac Desktop       Firefox                  US  "
      ]
     },
     "execution_count": 72,
     "metadata": {},
     "output_type": "execute_result"
    }
   ],
   "source": [
    "cols_to_drop = [\n",
    "    'id',\n",
    "    'date_account_created',\n",
    "    'date_first_booking',\n",
    "    'timestamp_first_active'\n",
    "]\n",
    "\n",
    "# drop columns\n",
    "df1 = df1.drop( cols_to_drop, axis=1 )\n",
    "df1.head()"
   ]
  },
  {
   "cell_type": "markdown",
   "id": "0cde231f",
   "metadata": {},
   "source": [
    "# 4.0. Exploratory Data Analysis"
   ]
  },
  {
   "cell_type": "code",
   "execution_count": 86,
   "id": "50e696f9",
   "metadata": {},
   "outputs": [
    {
     "data": {
      "text/plain": [
       "<Axes: xlabel='country_destination'>"
      ]
     },
     "execution_count": 86,
     "metadata": {},
     "output_type": "execute_result"
    },
    {
     "data": {
      "image/png": "[encoded data removed]",
      "text/plain": [
       "<Figure size 640x480 with 1 Axes>"
      ]
     },
     "metadata": {},
     "output_type": "display_data"
    }
   ],
   "source": [
    "# grafico de barras mostrando a distribuicao de usuarios por pais\n",
    "df1['country_destination'].value_counts().plot( kind='bar' )"
   ]
  },
  {
   "cell_type": "markdown",
   "id": "a9ddc016",
   "metadata": {},
   "source": [
    "# 5.0. Data Preparation"
   ]
  },
  {
   "cell_type": "code",
   "execution_count": 73,
   "id": "77303087",
   "metadata": {},
   "outputs": [],
   "source": [
    "X_tr = df1.drop('country_destination', axis=1)\n",
    "y_tr = df1['country_destination']"
   ]
  },
  {
   "cell_type": "markdown",
   "id": "78972580",
   "metadata": {},
   "source": [
    "## 5.1. Normalization"
   ]
  },
  {
   "cell_type": "markdown",
   "id": "7d56a2b8",
   "metadata": {},
   "source": [
    "## 5.2. Scaling"
   ]
  },
  {
   "cell_type": "markdown",
   "id": "bd5e8424",
   "metadata": {},
   "source": [
    "## 5.3. Encoder"
   ]
  },
  {
   "cell_type": "code",
   "execution_count": 74,
   "id": "c2ac7959",
   "metadata": {},
   "outputs": [],
   "source": [
    "# Frequency Encoder\n",
    "for col in X_tr.select_dtypes( include=['object'] ).columns:\n",
    "    freq = X_tr[col].value_counts().to_dict()\n",
    "    X_tr[col] = X_tr[col].map( freq )"
   ]
  },
  {
   "cell_type": "code",
   "execution_count": 75,
   "id": "3aa7d9be",
   "metadata": {},
   "outputs": [
    {
     "data": {
      "text/html": [
       "<div>\n",
       "<style scoped>\n",
       "    .dataframe tbody tr th:only-of-type {\n",
       "        vertical-align: middle;\n",
       "    }\n",
       "\n",
       "    .dataframe tbody tr th {\n",
       "        vertical-align: top;\n",
       "    }\n",
       "\n",
       "    .dataframe thead th {\n",
       "        text-align: right;\n",
       "    }\n",
       "</style>\n",
       "<table border=\"1\" class=\"dataframe\">\n",
       "  <thead>\n",
       "    <tr style=\"text-align: right;\">\n",
       "      <th></th>\n",
       "      <th>gender</th>\n",
       "      <th>age</th>\n",
       "      <th>signup_method</th>\n",
       "      <th>signup_flow</th>\n",
       "      <th>language</th>\n",
       "      <th>affiliate_channel</th>\n",
       "      <th>affiliate_provider</th>\n",
       "      <th>first_affiliate_tracked</th>\n",
       "      <th>signup_app</th>\n",
       "      <th>first_device_type</th>\n",
       "      <th>first_browser</th>\n",
       "    </tr>\n",
       "  </thead>\n",
       "  <tbody>\n",
       "    <tr>\n",
       "      <th>181335</th>\n",
       "      <td>23873</td>\n",
       "      <td>35.0</td>\n",
       "      <td>18486</td>\n",
       "      <td>0</td>\n",
       "      <td>53167</td>\n",
       "      <td>6873</td>\n",
       "      <td>12535</td>\n",
       "      <td>10097</td>\n",
       "      <td>48889</td>\n",
       "      <td>27185</td>\n",
       "      <td>9739</td>\n",
       "    </tr>\n",
       "    <tr>\n",
       "      <th>32671</th>\n",
       "      <td>23873</td>\n",
       "      <td>40.0</td>\n",
       "      <td>36017</td>\n",
       "      <td>3</td>\n",
       "      <td>53167</td>\n",
       "      <td>323</td>\n",
       "      <td>12535</td>\n",
       "      <td>10097</td>\n",
       "      <td>48889</td>\n",
       "      <td>27185</td>\n",
       "      <td>9739</td>\n",
       "    </tr>\n",
       "    <tr>\n",
       "      <th>11340</th>\n",
       "      <td>23873</td>\n",
       "      <td>28.0</td>\n",
       "      <td>18486</td>\n",
       "      <td>2</td>\n",
       "      <td>53167</td>\n",
       "      <td>36614</td>\n",
       "      <td>36534</td>\n",
       "      <td>29953</td>\n",
       "      <td>48889</td>\n",
       "      <td>4157</td>\n",
       "      <td>3801</td>\n",
       "    </tr>\n",
       "    <tr>\n",
       "      <th>36922</th>\n",
       "      <td>20932</td>\n",
       "      <td>55.0</td>\n",
       "      <td>18486</td>\n",
       "      <td>0</td>\n",
       "      <td>53167</td>\n",
       "      <td>36614</td>\n",
       "      <td>36534</td>\n",
       "      <td>29953</td>\n",
       "      <td>48889</td>\n",
       "      <td>18233</td>\n",
       "      <td>4303</td>\n",
       "    </tr>\n",
       "    <tr>\n",
       "      <th>34826</th>\n",
       "      <td>23873</td>\n",
       "      <td>29.0</td>\n",
       "      <td>18486</td>\n",
       "      <td>3</td>\n",
       "      <td>53167</td>\n",
       "      <td>36614</td>\n",
       "      <td>36534</td>\n",
       "      <td>29953</td>\n",
       "      <td>48889</td>\n",
       "      <td>27185</td>\n",
       "      <td>9739</td>\n",
       "    </tr>\n",
       "  </tbody>\n",
       "</table>\n",
       "</div>"
      ],
      "text/plain": [
       "        gender   age  signup_method  signup_flow  language  affiliate_channel  \\\n",
       "181335   23873  35.0          18486            0     53167               6873   \n",
       "32671    23873  40.0          36017            3     53167                323   \n",
       "11340    23873  28.0          18486            2     53167              36614   \n",
       "36922    20932  55.0          18486            0     53167              36614   \n",
       "34826    23873  29.0          18486            3     53167              36614   \n",
       "\n",
       "        affiliate_provider  first_affiliate_tracked  signup_app  \\\n",
       "181335               12535                    10097       48889   \n",
       "32671                12535                    10097       48889   \n",
       "11340                36534                    29953       48889   \n",
       "36922                36534                    29953       48889   \n",
       "34826                36534                    29953       48889   \n",
       "\n",
       "        first_device_type  first_browser  \n",
       "181335              27185           9739  \n",
       "32671               27185           9739  \n",
       "11340                4157           3801  \n",
       "36922               18233           4303  \n",
       "34826               27185           9739  "
      ]
     },
     "execution_count": 75,
     "metadata": {},
     "output_type": "execute_result"
    }
   ],
   "source": [
    "X_tr.head()"
   ]
  },
  {
   "cell_type": "markdown",
   "id": "e8b2383a",
   "metadata": {},
   "source": [
    "## 5.4. Transformation"
   ]
  },
  {
   "cell_type": "markdown",
   "id": "04982532",
   "metadata": {},
   "source": [
    "# 6.0. Feature Selection"
   ]
  },
  {
   "cell_type": "markdown",
   "id": "e27540b0",
   "metadata": {},
   "source": [
    "# 7.0. Machine Learning Modeling"
   ]
  },
  {
   "cell_type": "markdown",
   "id": "0175ec75",
   "metadata": {},
   "source": [
    "## 7.1. Random Classifier"
   ]
  },
  {
   "cell_type": "code",
   "execution_count": null,
   "id": "96338a92",
   "metadata": {},
   "outputs": [
    {
     "name": "stdout",
     "output_type": "stream",
     "text": [
      "Accuracy:  0.709380096384659\n",
      "F1 Score:  0.07545320061667637\n"
     ]
    }
   ],
   "source": [
    "# Training Dummy Classifier\n",
    "\n",
    "# definition\n",
    "dummy_model = dm.DummyClassifier( strategy='most_frequent' )\n",
    "\n",
    "# train\n",
    "dummy_model.fit( X_tr, y_tr )\n",
    "\n",
    "# prediction\n",
    "y_pred_tr = dummy_model.predict( X_tr )\n",
    "\n",
    "# performance\n",
    "dummy_acc_tr = mt.accuracy_score( y_tr, y_pred_tr ) \n",
    "dummy_f1_score = mt.f1_score( y_tr, y_pred_tr, average='macro' )\n",
    "\n",
    "print( 'Accuracy: ', dummy_acc_tr )\n",
    "print( 'F1 Score: ', dummy_f1_score )"
   ]
  },
  {
   "cell_type": "markdown",
   "id": "2530b25b",
   "metadata": {},
   "source": [
    "# 7.1. Random Forest Classifier"
   ]
  },
  {
   "cell_type": "code",
   "execution_count": 84,
   "id": "cdbe5e9c",
   "metadata": {},
   "outputs": [
    {
     "name": "stdout",
     "output_type": "stream",
     "text": [
      "Accuracy:  0.8041155882945779\n",
      "F1 Score:  0.5288510767739988\n"
     ]
    }
   ],
   "source": [
    "# model definition\n",
    "model_rf = en.RandomForestClassifier( n_estimators=100, random_state=42, n_jobs=-1 )\n",
    "\n",
    "# training\n",
    "model_rf.fit( X_tr, y_tr )\n",
    "\n",
    "# prediction\n",
    "y_pred_tr = model_rf.predict( X_tr )\n",
    "\n",
    "# performance\n",
    "model_rf_acc_tr = mt.accuracy_score( y_tr, y_pred_tr ) \n",
    "model_rf_f1_score = mt.f1_score( y_tr, y_pred_tr, average='macro' )\n",
    "\n",
    "print( 'Accuracy: ', model_rf_acc_tr )\n",
    "print( 'F1 Score: ', model_rf_f1_score )"
   ]
  },
  {
   "cell_type": "markdown",
   "id": "1231a2ed",
   "metadata": {},
   "source": [
    "# 8.0. Hyperparameter Fine Tuning"
   ]
  },
  {
   "cell_type": "markdown",
   "id": "c4489ae5",
   "metadata": {},
   "source": [
    "# 9.0. Performance Metrics"
   ]
  },
  {
   "cell_type": "markdown",
   "id": "6e50a575",
   "metadata": {},
   "source": [
    "# 10.0. Deploy to Production"
   ]
  }
 ],
 "metadata": {
  "kernelspec": {
   "display_name": "testbench",
   "language": "python",
   "name": "python3"
  },
  "language_info": {
   "codemirror_mode": {
    "name": "ipython",
    "version": 3
   },
   "file_extension": ".py",
   "mimetype": "text/x-python",
   "name": "python",
   "nbconvert_exporter": "python",
   "pygments_lexer": "ipython3",
   "version": "3.11.0"
  }
 },
 "nbformat": 4,
 "nbformat_minor": 5
}
